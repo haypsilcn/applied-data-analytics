{
 "nbformat": 4,
 "nbformat_minor": 0,
 "metadata": {
  "kernelspec": {
   "display_name": "Python 3",
   "language": "python",
   "name": "python3"
  },
  "language_info": {
   "codemirror_mode": {
    "name": "ipython",
    "version": 3
   },
   "file_extension": ".py",
   "mimetype": "text/x-python",
   "name": "python",
   "nbconvert_exporter": "python",
   "pygments_lexer": "ipython3",
   "version": "3.7.0"
  },
  "colab": {
   "name": "HandsOnPython_03_GrundlagenDatenaufbereitung.ipynb",
   "provenance": [],
   "collapsed_sections": [
    "9gM69txwIVWm"
   ]
  }
 },
 "cells": [
  {
   "cell_type": "markdown",
   "metadata": {
    "id": "ayulqe04IVWd"
   },
   "source": [
    "# Hands On Python 3 - Datenaufbereitung\n",
    "Dieses Notebook zeigt wie\n",
    "- man Daten aus zwei csv Dateien zu einem Datensatz zusammenfügen kann\n",
    "- wie man mit nicht existenten Werten (NaN - Not a Number) umgeht\n",
    "- wie man Zeitreihen mit unterschiedlichen Frequenzen auf eine gemeinsame Frequenz bringen kann"
   ]
  },
  {
   "cell_type": "markdown",
   "metadata": {
    "id": "APrNMW-1IVWf"
   },
   "source": [
    "## Notwendige Bibliotheken importieren"
   ]
  },
  {
   "cell_type": "code",
   "metadata": {
    "colab": {
     "base_uri": "https://localhost:8080/"
    },
    "id": "HlOFkwRNIVWg",
    "outputId": "d59e2676-361d-4e28-cca4-c3624bb54018",
    "pycharm": {
     "is_executing": true
    }
   },
   "source": [
    "# notwendige Bibliotheken importieren\n",
    "import pandas as pd\n",
    "import numpy as np\n",
    "import matplotlib.pyplot as plt\n",
    "import seaborn as sns\n",
    "#from google.colab import drive\n",
    "#drive.mount('/content/drive', force_remount=True)"
   ],
   "execution_count": null,
   "outputs": []
  },
  {
   "cell_type": "markdown",
   "metadata": {
    "id": "Okq6PkpWIVWh"
   },
   "source": [
    "## Daten einlesen"
   ]
  },
  {
   "cell_type": "code",
   "metadata": {
    "id": "hp_SM78yIVWi"
   },
   "source": [
    "# Daten einlesen\n",
    "\n",
    "# Daten der 1. Quelle\n",
    "#rawData1 = pd.read_csv('/content/drive/My Drive/source1.csv')\n",
    "rawData1 = pd.read_csv(\"source1.csv\")\n",
    "# Lesen Sie die Daten der 2. Quelle ein\n",
    "#rawData2 = pd.read_csv('/content/drive/My Drive/source2.csv')\n",
    "rawData2 = pd.read_csv(\"source2.csv\")"
   ],
   "execution_count": 8,
   "outputs": []
  },
  {
   "cell_type": "code",
   "execution_count": 9,
   "outputs": [
    {
     "data": {
      "text/plain": "(135, 5)"
     },
     "execution_count": 9,
     "metadata": {},
     "output_type": "execute_result"
    }
   ],
   "source": [
    "# Anzahl der Zeilen und Spalten ausgeben\n",
    "rawData1.shape"
   ],
   "metadata": {
    "collapsed": false
   }
  },
  {
   "cell_type": "code",
   "execution_count": 10,
   "outputs": [
    {
     "data": {
      "text/plain": "(45, 2)"
     },
     "execution_count": 10,
     "metadata": {},
     "output_type": "execute_result"
    }
   ],
   "source": [
    "rawData2.shape"
   ],
   "metadata": {
    "collapsed": false
   }
  },
  {
   "cell_type": "code",
   "execution_count": null,
   "outputs": [],
   "source": [
    "# Geben Sie Zeilen und Spalten des 1. Datensatzes von Quelle 1 aus\n",
    "rawData1.iloc[0]"
   ],
   "metadata": {
    "collapsed": false
   }
  },
  {
   "cell_type": "code",
   "execution_count": null,
   "outputs": [],
   "source": [
    "# Geben Sie Zeilen und Spalten des 2. Datensatzes von Quelle 2 aus\n",
    "rawData2.iloc[1]"
   ],
   "metadata": {
    "collapsed": false
   }
  },
  {
   "cell_type": "code",
   "execution_count": null,
   "outputs": [],
   "source": [
    "# Geben Sie die ersten Zeilen von Quelle 1 aus:\n",
    "rawData1.head(1)"
   ],
   "metadata": {
    "collapsed": false
   }
  },
  {
   "cell_type": "code",
   "metadata": {
    "id": "x5Bp-vuNIVWj"
   },
   "source": [
    "# Geben Sie die ersten Zeilen von Quelle 2 aus:\n",
    "rawData2.head(1)"
   ],
   "execution_count": null,
   "outputs": []
  },
  {
   "cell_type": "code",
   "metadata": {
    "id": "GPRBiH-7IVWk"
   },
   "source": [
    "# Geben Sie die letzten Zeilen von Quelle 1 aus:\n",
    "rawData1.tail(1)"
   ],
   "execution_count": null,
   "outputs": []
  },
  {
   "cell_type": "code",
   "metadata": {
    "id": "KHPvNXNBIVWk"
   },
   "source": [
    "# Geben Sie die letzten Zeilen von Quelle 2 aus\n",
    "rawData2.tail(1)"
   ],
   "execution_count": null,
   "outputs": []
  },
  {
   "cell_type": "markdown",
   "metadata": {
    "id": "wabmQ66lIVWk"
   },
   "source": [
    "## Daten auf fehlende Werte hin überprüfen"
   ]
  },
  {
   "cell_type": "code",
   "metadata": {
    "id": "Q65ZNKE1IVWl"
   },
   "source": [
    "# Geben Sie sich die Anzahl der NaNs in den Spalten von Quelle 2 aus:\n",
    "rawData2.isna().sum()"
   ],
   "execution_count": null,
   "outputs": []
  },
  {
   "cell_type": "code",
   "metadata": {
    "id": "HNS0_W7PIVWl"
   },
   "source": [
    "# Sofern der Datensatz keine NaNs erhält --> Kopie der Rohdaten namens data2 erstellen und damit direkt weiterarbeiten:\n",
    "data2 = rawData2.copy()"
   ],
   "execution_count": null,
   "outputs": []
  },
  {
   "cell_type": "code",
   "metadata": {
    "id": "tebtv3pFIVWl"
   },
   "source": [
    "# Wie sieht es bei rawData1 aus? Geben Sie für rawData1 die Anzahl der NaNs in den Spalten aus\n",
    "rawData1.isna().sum()"
   ],
   "execution_count": null,
   "outputs": []
  },
  {
   "cell_type": "markdown",
   "metadata": {
    "id": "L6TZB-5cIVWm"
   },
   "source": [
    "## Mit NaNs umgehen"
   ]
  },
  {
   "cell_type": "markdown",
   "metadata": {
    "id": "bI_Gr0wzIVWm"
   },
   "source": [
    "### Möglichkeit 1: alle Zeilen, in denen mindestens 1x NaN vorkommt, löschen"
   ]
  },
  {
   "cell_type": "code",
   "metadata": {
    "colab": {
     "base_uri": "https://localhost:8080/"
    },
    "id": "O3RaFZ-OIVWm",
    "outputId": "d28c9197-e696-47d0-bfb8-f7f9a5dd02d0"
   },
   "source": [
    "# Kopie der Rohdaten anlegen\n",
    "data1_del = rawData1.copy() \n",
    "\n",
    "# Zeilen mit mind. 1x NaN löschen (d.h. in irgendeiner Spalte kommt ein NaN vor --> Zeile wird gelöscht)\n",
    "data1_del.dropna(inplace=True)\n",
    "\n",
    "# Überprüfen\n",
    "data1_del.isna().sum()"
   ],
   "execution_count": 29,
   "outputs": [
    {
     "data": {
      "text/plain": "Date         0\nEnergy       0\nLight        0\nCO2          0\nOccupancy    0\ndtype: int64"
     },
     "execution_count": 29,
     "metadata": {},
     "output_type": "execute_result"
    }
   ]
  },
  {
   "cell_type": "markdown",
   "metadata": {
    "id": "9gM69txwIVWm"
   },
   "source": [
    "### Möglichkeit 2: Fehlende Werte durch interpolierte Werte ersetzen"
   ]
  },
  {
   "cell_type": "markdown",
   "metadata": {
    "id": "d16mQyUNIVWn"
   },
   "source": [
    "### Linear Interpolieren"
   ]
  },
  {
   "cell_type": "code",
   "metadata": {
    "id": "n5EB2DDrIVWn"
   },
   "source": [
    "# Führen Sie eine lineare Interpolation durch. Erstellen Sie sich dazu zunächst data1_ip als Kopie von rawData1\n",
    "data1_ip = rawData1.copy()\n",
    "data1_ip.interpolate(inplace=True)"
   ],
   "execution_count": 30,
   "outputs": []
  },
  {
   "cell_type": "code",
   "execution_count": 31,
   "outputs": [
    {
     "data": {
      "text/plain": "Date         0\nEnergy       0\nLight        0\nCO2          0\nOccupancy    0\ndtype: int64"
     },
     "execution_count": 31,
     "metadata": {},
     "output_type": "execute_result"
    }
   ],
   "source": [
    "# Geben Sie sich die Anzahl an NaN in den Spalten nach der Interpolation aus:\n",
    "data1_ip.isna().sum()"
   ],
   "metadata": {
    "collapsed": false
   }
  },
  {
   "cell_type": "code",
   "metadata": {
    "scrolled": true,
    "id": "5oZIYaFkIVWo"
   },
   "source": [
    "# Plotten der alten Zeitreihe\n",
    "plt.figure(figsize=(18, 4))\n",
    "rawData1['Light'].plot(marker='o')   "
   ],
   "execution_count": 32,
   "outputs": [
    {
     "data": {
      "text/plain": "<AxesSubplot: >"
     },
     "execution_count": 32,
     "metadata": {},
     "output_type": "execute_result"
    },
    {
     "data": {
      "text/plain": "<Figure size 1800x400 with 1 Axes>",
      "image/png": "[encoded data removed]"
     },
     "metadata": {},
     "output_type": "display_data"
    }
   ]
  },
  {
   "cell_type": "code",
   "metadata": {
    "id": "PqC9XVPlIVWo"
   },
   "source": [
    "#neue Zeitreihe mit interpolierten Werten plotten\n",
    "plt.figure(figsize=(18, 4))\n",
    "data1_ip['Light'].plot(marker='o')"
   ],
   "execution_count": 33,
   "outputs": [
    {
     "data": {
      "text/plain": "<AxesSubplot: >"
     },
     "execution_count": 33,
     "metadata": {},
     "output_type": "execute_result"
    },
    {
     "data": {
      "text/plain": "<Figure size 1800x400 with 1 Axes>",
      "image/png": "[encoded data removed]"
     },
     "metadata": {},
     "output_type": "display_data"
    }
   ]
  },
  {
   "cell_type": "markdown",
   "source": [
    "Wie zufrieden sind Sie mit der Interpolation?\n",
    "\n",
    "\n",
    "...."
   ],
   "metadata": {
    "id": "04agxgU_rB29"
   }
  },
  {
   "cell_type": "code",
   "metadata": {
    "colab": {
     "base_uri": "https://localhost:8080/"
    },
    "id": "fuVjLp_qIVWp",
    "outputId": "b12801bb-c0ae-409b-f215-971759f97d50"
   },
   "source": [
    "# Grundsätzlich ist auch möglich mit Polynomfunktionen zu interpolieren.\n",
    "# Interpolieren Sie quadratisch (method='polynomial', order=2)\n",
    "data1_pp = rawData1.copy()\n",
    "data1_pp.interpolate(method='polynomial', order=2, inplace=True)"
   ],
   "execution_count": 17,
   "outputs": []
  },
  {
   "cell_type": "code",
   "execution_count": 18,
   "outputs": [
    {
     "data": {
      "text/plain": "Date         0\nEnergy       0\nLight        0\nCO2          0\nOccupancy    0\ndtype: int64"
     },
     "execution_count": 18,
     "metadata": {},
     "output_type": "execute_result"
    }
   ],
   "source": [
    "# Anzahl an NaN in Spalten ausgeben\n",
    "data1_pp.isna().sum()"
   ],
   "metadata": {
    "collapsed": false
   }
  },
  {
   "cell_type": "code",
   "metadata": {
    "id": "G-_eL_trIVWp"
   },
   "source": [
    "# Plotten Sie zum Vergleich wieder die alte und die neue Zeitreihe \n",
    "# Plot der alten Zeitreihe:\n",
    "plt.figure(figsize=(22.5, 5))\n",
    "rawData1['Light'].plot(marker='o')\n"
   ],
   "execution_count": 13,
   "outputs": [
    {
     "data": {
      "text/plain": "<AxesSubplot: >"
     },
     "execution_count": 13,
     "metadata": {},
     "output_type": "execute_result"
    },
    {
     "data": {
      "text/plain": "<Figure size 2250x500 with 1 Axes>",
      "image/png": "[encoded data removed]"
     },
     "metadata": {},
     "output_type": "display_data"
    }
   ]
  },
  {
   "cell_type": "code",
   "metadata": {
    "id": "AH0ggExVIVWq"
   },
   "source": [
    "# Plot der neuen Zeitreihe:\n",
    "plt.figure(figsize=(18, 4))\n",
    "data1_pp['Light'].plot(marker='o')"
   ],
   "execution_count": 16,
   "outputs": [
    {
     "data": {
      "text/plain": "<AxesSubplot: >"
     },
     "execution_count": 16,
     "metadata": {},
     "output_type": "execute_result"
    },
    {
     "data": {
      "text/plain": "<Figure size 1800x400 with 1 Axes>",
      "image/png": "[encoded data removed]"
     },
     "metadata": {},
     "output_type": "display_data"
    }
   ]
  },
  {
   "cell_type": "markdown",
   "source": [
    "Hat sich die quadratische Interpolation im Vergleich zur linearen gelohnt? Welches der beiden Interpolationsverfahren würden Sie wählen?\n",
    "\n",
    "......."
   ],
   "metadata": {
    "id": "dFmSNMQPrWQK"
   }
  },
  {
   "cell_type": "markdown",
   "metadata": {
    "id": "bEL2BvJFIVWq"
   },
   "source": [
    "## Zeitstempel als Index setzen\n",
    "- Momentan sind die Zeilenindizes einfach durchnummeriert: 0,1,2,...\n",
    "- Wenn der Zeitstempel als Index gesetzt wird, kann man einfacher arbeiten\n",
    "- Dafür muss der Zeitstempel als erstes in das Format datetime gebracht werden, damit Python ihn als Zeitstempel erkennt"
   ]
  },
  {
   "cell_type": "code",
   "metadata": {
    "colab": {
     "base_uri": "https://localhost:8080/"
    },
    "id": "TLtd5BPyIVWq",
    "outputId": "0deefdcb-f4fa-4b19-8e8d-ca6bd7d33b0e"
   },
   "source": [
    "# die Spalte Date ist noch nicht im datetime Format\n",
    "data1_ip.dtypes"
   ],
   "execution_count": 41,
   "outputs": [
    {
     "data": {
      "text/plain": "Date          object\nEnergy       float64\nLight        float64\nCO2          float64\nOccupancy    float64\ndtype: object"
     },
     "execution_count": 41,
     "metadata": {},
     "output_type": "execute_result"
    }
   ]
  },
  {
   "cell_type": "code",
   "metadata": {
    "id": "vIvZgHXsIVWr"
   },
   "source": [
    "# Bringen Sie die Spalte Date ins datetime Format \n",
    "data1_ip[\"Date\"] = pd.to_datetime(data1_ip[\"Date\"])"
   ],
   "execution_count": 42,
   "outputs": []
  },
  {
   "cell_type": "code",
   "metadata": {
    "id": "8Ft6Y1nNIVWr"
   },
   "source": [
    "# Indizieren Sie mit der Zeitstempel-Spalte \n",
    "data1_ip.set_index(\"Date\", inplace=True)\n"
   ],
   "execution_count": 45,
   "outputs": []
  },
  {
   "cell_type": "code",
   "execution_count": 46,
   "outputs": [
    {
     "data": {
      "text/plain": "                        Energy       Light         CO2  Occupancy\nDate                                                             \n2015-02-02 14:15:00  26.285636  527.283333  785.951515        1.0",
      "text/html": "<div>\n<style scoped>\n    .dataframe tbody tr th:only-of-type {\n        vertical-align: middle;\n    }\n\n    .dataframe tbody tr th {\n        vertical-align: top;\n    }\n\n    .dataframe thead th {\n        text-align: right;\n    }\n</style>\n<table border=\"1\" class=\"dataframe\">\n  <thead>\n    <tr style=\"text-align: right;\">\n      <th></th>\n      <th>Energy</th>\n      <th>Light</th>\n      <th>CO2</th>\n      <th>Occupancy</th>\n    </tr>\n    <tr>\n      <th>Date</th>\n      <th></th>\n      <th></th>\n      <th></th>\n      <th></th>\n    </tr>\n  </thead>\n  <tbody>\n    <tr>\n      <th>2015-02-02 14:15:00</th>\n      <td>26.285636</td>\n      <td>527.283333</td>\n      <td>785.951515</td>\n      <td>1.0</td>\n    </tr>\n  </tbody>\n</table>\n</div>"
     },
     "execution_count": 46,
     "metadata": {},
     "output_type": "execute_result"
    }
   ],
   "source": [
    "# Kontrollieren Sie das durch Ausgabe der ersten Zeilen des Datensatzes.\n",
    "data1_ip.head(1)"
   ],
   "metadata": {
    "collapsed": false
   }
  },
  {
   "cell_type": "markdown",
   "source": [
    "Wieso wird bei wiederholtem Ausführen obiger Zelle ein Fehler geworfen? Müssen Sie etwas am Code korrigieren?\n",
    "\n",
    "...."
   ],
   "metadata": {
    "id": "O25wCPosryDD"
   }
  },
  {
   "cell_type": "code",
   "metadata": {
    "id": "SgELhwmFIVWr"
   },
   "source": [
    "# Indizieren Sie auch data2 mit dessen Zeitstempel\n",
    "data2['Date'] = pd.to_datetime(data2['Date'])\n",
    "data2.set_index('Date', inplace=True)"
   ],
   "execution_count": 49,
   "outputs": [
    {
     "ename": "KeyError",
     "evalue": "'Date'",
     "output_type": "error",
     "traceback": [
      "\u001B[1;31m---------------------------------------------------------------------------\u001B[0m",
      "\u001B[1;31mKeyError\u001B[0m                                  Traceback (most recent call last)",
      "File \u001B[1;32m~\\Documents\\ada\\venv\\lib\\site-packages\\pandas\\core\\indexes\\base.py:3803\u001B[0m, in \u001B[0;36mIndex.get_loc\u001B[1;34m(self, key, method, tolerance)\u001B[0m\n\u001B[0;32m   3802\u001B[0m \u001B[38;5;28;01mtry\u001B[39;00m:\n\u001B[1;32m-> 3803\u001B[0m     \u001B[38;5;28;01mreturn\u001B[39;00m \u001B[38;5;28;43mself\u001B[39;49m\u001B[38;5;241;43m.\u001B[39;49m\u001B[43m_engine\u001B[49m\u001B[38;5;241;43m.\u001B[39;49m\u001B[43mget_loc\u001B[49m\u001B[43m(\u001B[49m\u001B[43mcasted_key\u001B[49m\u001B[43m)\u001B[49m\n\u001B[0;32m   3804\u001B[0m \u001B[38;5;28;01mexcept\u001B[39;00m \u001B[38;5;167;01mKeyError\u001B[39;00m \u001B[38;5;28;01mas\u001B[39;00m err:\n",
      "File \u001B[1;32m~\\Documents\\ada\\venv\\lib\\site-packages\\pandas\\_libs\\index.pyx:138\u001B[0m, in \u001B[0;36mpandas._libs.index.IndexEngine.get_loc\u001B[1;34m()\u001B[0m\n",
      "File \u001B[1;32m~\\Documents\\ada\\venv\\lib\\site-packages\\pandas\\_libs\\index.pyx:165\u001B[0m, in \u001B[0;36mpandas._libs.index.IndexEngine.get_loc\u001B[1;34m()\u001B[0m\n",
      "File \u001B[1;32mpandas\\_libs\\hashtable_class_helper.pxi:5745\u001B[0m, in \u001B[0;36mpandas._libs.hashtable.PyObjectHashTable.get_item\u001B[1;34m()\u001B[0m\n",
      "File \u001B[1;32mpandas\\_libs\\hashtable_class_helper.pxi:5753\u001B[0m, in \u001B[0;36mpandas._libs.hashtable.PyObjectHashTable.get_item\u001B[1;34m()\u001B[0m\n",
      "\u001B[1;31mKeyError\u001B[0m: 'Date'",
      "\nThe above exception was the direct cause of the following exception:\n",
      "\u001B[1;31mKeyError\u001B[0m                                  Traceback (most recent call last)",
      "Cell \u001B[1;32mIn [49], line 2\u001B[0m\n\u001B[0;32m      1\u001B[0m \u001B[38;5;66;03m# Indizieren Sie auch data2 mit dessen Zeitstempel\u001B[39;00m\n\u001B[1;32m----> 2\u001B[0m data2[\u001B[38;5;124m'\u001B[39m\u001B[38;5;124mDate\u001B[39m\u001B[38;5;124m'\u001B[39m] \u001B[38;5;241m=\u001B[39m pd\u001B[38;5;241m.\u001B[39mto_datetime(\u001B[43mdata2\u001B[49m\u001B[43m[\u001B[49m\u001B[38;5;124;43m'\u001B[39;49m\u001B[38;5;124;43mDate\u001B[39;49m\u001B[38;5;124;43m'\u001B[39;49m\u001B[43m]\u001B[49m)\n\u001B[0;32m      3\u001B[0m data2\u001B[38;5;241m.\u001B[39mset_index(\u001B[38;5;124m'\u001B[39m\u001B[38;5;124mDate\u001B[39m\u001B[38;5;124m'\u001B[39m, inplace\u001B[38;5;241m=\u001B[39m\u001B[38;5;28;01mTrue\u001B[39;00m)\n",
      "File \u001B[1;32m~\\Documents\\ada\\venv\\lib\\site-packages\\pandas\\core\\frame.py:3804\u001B[0m, in \u001B[0;36mDataFrame.__getitem__\u001B[1;34m(self, key)\u001B[0m\n\u001B[0;32m   3802\u001B[0m \u001B[38;5;28;01mif\u001B[39;00m \u001B[38;5;28mself\u001B[39m\u001B[38;5;241m.\u001B[39mcolumns\u001B[38;5;241m.\u001B[39mnlevels \u001B[38;5;241m>\u001B[39m \u001B[38;5;241m1\u001B[39m:\n\u001B[0;32m   3803\u001B[0m     \u001B[38;5;28;01mreturn\u001B[39;00m \u001B[38;5;28mself\u001B[39m\u001B[38;5;241m.\u001B[39m_getitem_multilevel(key)\n\u001B[1;32m-> 3804\u001B[0m indexer \u001B[38;5;241m=\u001B[39m \u001B[38;5;28;43mself\u001B[39;49m\u001B[38;5;241;43m.\u001B[39;49m\u001B[43mcolumns\u001B[49m\u001B[38;5;241;43m.\u001B[39;49m\u001B[43mget_loc\u001B[49m\u001B[43m(\u001B[49m\u001B[43mkey\u001B[49m\u001B[43m)\u001B[49m\n\u001B[0;32m   3805\u001B[0m \u001B[38;5;28;01mif\u001B[39;00m is_integer(indexer):\n\u001B[0;32m   3806\u001B[0m     indexer \u001B[38;5;241m=\u001B[39m [indexer]\n",
      "File \u001B[1;32m~\\Documents\\ada\\venv\\lib\\site-packages\\pandas\\core\\indexes\\base.py:3805\u001B[0m, in \u001B[0;36mIndex.get_loc\u001B[1;34m(self, key, method, tolerance)\u001B[0m\n\u001B[0;32m   3803\u001B[0m     \u001B[38;5;28;01mreturn\u001B[39;00m \u001B[38;5;28mself\u001B[39m\u001B[38;5;241m.\u001B[39m_engine\u001B[38;5;241m.\u001B[39mget_loc(casted_key)\n\u001B[0;32m   3804\u001B[0m \u001B[38;5;28;01mexcept\u001B[39;00m \u001B[38;5;167;01mKeyError\u001B[39;00m \u001B[38;5;28;01mas\u001B[39;00m err:\n\u001B[1;32m-> 3805\u001B[0m     \u001B[38;5;28;01mraise\u001B[39;00m \u001B[38;5;167;01mKeyError\u001B[39;00m(key) \u001B[38;5;28;01mfrom\u001B[39;00m \u001B[38;5;21;01merr\u001B[39;00m\n\u001B[0;32m   3806\u001B[0m \u001B[38;5;28;01mexcept\u001B[39;00m \u001B[38;5;167;01mTypeError\u001B[39;00m:\n\u001B[0;32m   3807\u001B[0m     \u001B[38;5;66;03m# If we have a listlike key, _check_indexing_error will raise\u001B[39;00m\n\u001B[0;32m   3808\u001B[0m     \u001B[38;5;66;03m#  InvalidIndexError. Otherwise we fall through and re-raise\u001B[39;00m\n\u001B[0;32m   3809\u001B[0m     \u001B[38;5;66;03m#  the TypeError.\u001B[39;00m\n\u001B[0;32m   3810\u001B[0m     \u001B[38;5;28mself\u001B[39m\u001B[38;5;241m.\u001B[39m_check_indexing_error(key)\n",
      "\u001B[1;31mKeyError\u001B[0m: 'Date'"
     ]
    }
   ]
  },
  {
   "cell_type": "code",
   "metadata": {
    "id": "LVWKPNsFIVWr"
   },
   "source": [
    "data2.dtypes"
   ],
   "execution_count": 51,
   "outputs": [
    {
     "data": {
      "text/plain": "Temperature    float64\ndtype: object"
     },
     "execution_count": 51,
     "metadata": {},
     "output_type": "execute_result"
    }
   ]
  },
  {
   "cell_type": "code",
   "metadata": {
    "id": "6w-cvAqFIVWr"
   },
   "source": [
    "data2.head()"
   ],
   "execution_count": 52,
   "outputs": [
    {
     "data": {
      "text/plain": "                     Temperature\nDate                            \n2015-02-02 14:00:00    23.657118\n2015-02-02 15:00:00    23.293950\n2015-02-02 16:00:00    22.773142\n2015-02-02 17:00:00    22.534520\n2015-02-02 18:00:00    21.993372",
      "text/html": "<div>\n<style scoped>\n    .dataframe tbody tr th:only-of-type {\n        vertical-align: middle;\n    }\n\n    .dataframe tbody tr th {\n        vertical-align: top;\n    }\n\n    .dataframe thead th {\n        text-align: right;\n    }\n</style>\n<table border=\"1\" class=\"dataframe\">\n  <thead>\n    <tr style=\"text-align: right;\">\n      <th></th>\n      <th>Temperature</th>\n    </tr>\n    <tr>\n      <th>Date</th>\n      <th></th>\n    </tr>\n  </thead>\n  <tbody>\n    <tr>\n      <th>2015-02-02 14:00:00</th>\n      <td>23.657118</td>\n    </tr>\n    <tr>\n      <th>2015-02-02 15:00:00</th>\n      <td>23.293950</td>\n    </tr>\n    <tr>\n      <th>2015-02-02 16:00:00</th>\n      <td>22.773142</td>\n    </tr>\n    <tr>\n      <th>2015-02-02 17:00:00</th>\n      <td>22.534520</td>\n    </tr>\n    <tr>\n      <th>2015-02-02 18:00:00</th>\n      <td>21.993372</td>\n    </tr>\n  </tbody>\n</table>\n</div>"
     },
     "execution_count": 52,
     "metadata": {},
     "output_type": "execute_result"
    }
   ]
  },
  {
   "cell_type": "code",
   "metadata": {
    "id": "NSO071nrIVWs"
   },
   "source": [
    "data1_ip.head()"
   ],
   "execution_count": 53,
   "outputs": [
    {
     "data": {
      "text/plain": "                        Energy       Light          CO2  Occupancy\nDate                                                              \n2015-02-02 14:15:00  26.285636  527.283333   785.951515        1.0\n2015-02-02 14:30:00  27.016313  481.697917   894.539583        1.0\n2015-02-02 14:45:00  27.612107  499.415646   992.291327        1.0\n2015-02-02 15:00:00  28.006019  456.436190  1051.151905        1.0\n2015-02-02 15:15:00  28.489948  464.760417  1101.779167        1.0",
      "text/html": "<div>\n<style scoped>\n    .dataframe tbody tr th:only-of-type {\n        vertical-align: middle;\n    }\n\n    .dataframe tbody tr th {\n        vertical-align: top;\n    }\n\n    .dataframe thead th {\n        text-align: right;\n    }\n</style>\n<table border=\"1\" class=\"dataframe\">\n  <thead>\n    <tr style=\"text-align: right;\">\n      <th></th>\n      <th>Energy</th>\n      <th>Light</th>\n      <th>CO2</th>\n      <th>Occupancy</th>\n    </tr>\n    <tr>\n      <th>Date</th>\n      <th></th>\n      <th></th>\n      <th></th>\n      <th></th>\n    </tr>\n  </thead>\n  <tbody>\n    <tr>\n      <th>2015-02-02 14:15:00</th>\n      <td>26.285636</td>\n      <td>527.283333</td>\n      <td>785.951515</td>\n      <td>1.0</td>\n    </tr>\n    <tr>\n      <th>2015-02-02 14:30:00</th>\n      <td>27.016313</td>\n      <td>481.697917</td>\n      <td>894.539583</td>\n      <td>1.0</td>\n    </tr>\n    <tr>\n      <th>2015-02-02 14:45:00</th>\n      <td>27.612107</td>\n      <td>499.415646</td>\n      <td>992.291327</td>\n      <td>1.0</td>\n    </tr>\n    <tr>\n      <th>2015-02-02 15:00:00</th>\n      <td>28.006019</td>\n      <td>456.436190</td>\n      <td>1051.151905</td>\n      <td>1.0</td>\n    </tr>\n    <tr>\n      <th>2015-02-02 15:15:00</th>\n      <td>28.489948</td>\n      <td>464.760417</td>\n      <td>1101.779167</td>\n      <td>1.0</td>\n    </tr>\n  </tbody>\n</table>\n</div>"
     },
     "execution_count": 53,
     "metadata": {},
     "output_type": "execute_result"
    }
   ]
  },
  {
   "cell_type": "markdown",
   "metadata": {
    "id": "ddZVxF1aIVWs"
   },
   "source": [
    "## Datensätze zu einem Zusammenfügen\n",
    "- Problem: Die Datensätze haben unterschiedliche Frequenzen: Datensatz 1: 15min, Datensatz 2: stündlich\n",
    "- Möglichkeit 1: Nur die Indizes nehmen, die sowohl in Datensatz 1, als auch in Datensatz 2 sind, also jede volle Stunde\n",
    "- Möglichkeit 2: Den Datensatz mit der höheren Frequenz (Datensatz 1) runtersamplen, z.B. indem der stündliche Mittelwert oder die Summe über je eine Stunde gebildet wird"
   ]
  },
  {
   "cell_type": "markdown",
   "metadata": {
    "id": "LMPjks0xIVWs"
   },
   "source": [
    "Frage: Worauf muss man aufpassen, wenn man Möglichkeit 2 wählt?"
   ]
  },
  {
   "cell_type": "markdown",
   "metadata": {
    "id": "hC6QDGoTIVWs"
   },
   "source": [
    "Antwort: \n",
    "...."
   ]
  },
  {
   "cell_type": "markdown",
   "metadata": {
    "id": "Lu9e7PuJIVWs"
   },
   "source": [
    "### Möglichkeit 1: Nur die Indizes nehmen, die sowohl in Datensatz 1, als auch in Datensatz 2 sind"
   ]
  },
  {
   "cell_type": "code",
   "metadata": {
    "colab": {
     "base_uri": "https://localhost:8080/",
     "height": 237
    },
    "id": "bYOde3ExIVWs",
    "outputId": "d2d687ac-e25b-4960-8ba7-e9171c3693b0"
   },
   "source": [
    "# Neuen Datensatz definieren, der aus Datensatz 2 von rechts angehängt an Datensatz 1 besteht\n",
    "data = pd.concat([data1_ip, data2], axis=1)\n",
    "\n",
    "# Dort wo keine Werte für den jeweiligen Zeitstempel vorhanden sind, werden NaN eingefügt\n",
    "data.head()"
   ],
   "execution_count": null,
   "outputs": []
  },
  {
   "cell_type": "code",
   "metadata": {
    "id": "RnHb4P4nIVWt"
   },
   "source": [
    "# Löschen Sie nun noch die Zeilen in denen mindestens 1x NaN vorkommt:\n",
    "\n",
    "\n",
    "# Ausgabe der ersten Zeilen von data zur Kontrolle:\n"
   ],
   "execution_count": null,
   "outputs": []
  },
  {
   "cell_type": "markdown",
   "metadata": {
    "id": "gV8uMR8tIVWt"
   },
   "source": [
    "## Möglichkeit 2: \n",
    "- Datensatz 1 soll von 15minüten auf stündliche Werte runtergesampelt werden\n",
    "- Für die Spalten Light und CO2 soll dazu der stündliche Mittelwert genommen werden\n",
    "- Für die Spalte Energy soll dazu jeweils die Summe über die 4 Werte in einer Stunde gebildet werden\n",
    "- Für die Spalte Occupancy soll einfach der Wert zur vollen Stunde genommen werden"
   ]
  },
  {
   "cell_type": "code",
   "metadata": {
    "colab": {
     "base_uri": "https://localhost:8080/",
     "height": 186
    },
    "id": "vmMYDS3JIVWt",
    "outputId": "5d6e1c27-3e3c-441c-fa8c-a5fd400974c8"
   },
   "source": [
    "# Ursprünglicher Datensatz\n",
    "data1_ip.head()"
   ],
   "execution_count": null,
   "outputs": []
  },
  {
   "cell_type": "code",
   "metadata": {
    "colab": {
     "base_uri": "https://localhost:8080/",
     "height": 237
    },
    "id": "KWkSg200IVWt",
    "outputId": "13f0e088-de16-494a-81b9-520ef7e7369f"
   },
   "source": [
    "# Ursprünglichen Datensatz aufteilen\n",
    "\n",
    "# nur die Spalten, die gemittelt werden sollen \n",
    "data1_mean = data1_ip.copy()\n",
    "data1_mean.drop(['Energy', 'Occupancy'], axis=1, inplace=True)\n",
    "data1_mean.head()"
   ],
   "execution_count": null,
   "outputs": []
  },
  {
   "cell_type": "code",
   "metadata": {
    "id": "XgE2LujPIVWt"
   },
   "source": [
    "# Generieren Sie einen Datensatz data1_sum, der nur die Spalten enthält, die summiert werden sollen\n"
   ],
   "execution_count": null,
   "outputs": []
  },
  {
   "cell_type": "code",
   "metadata": {
    "id": "1Vmf8xERIVWu"
   },
   "source": [
    "# Generieren Sie einen Datensatz data1_binary, der nur die Spalten enthält, die weder gemittelt noch aufsummiert werden sollen\n"
   ],
   "execution_count": null,
   "outputs": []
  },
  {
   "cell_type": "code",
   "metadata": {
    "id": "IxEBdUbcIVWu"
   },
   "source": [
    "# Bringen Sie den Datensatz data1_mean durch Mittelwertbildung auf eine höhere Frequenz (stündlich):\n",
    "\n",
    "\n",
    "# Lassen Sie sich zur Kontrolle die ersten Zeilen ausgeben:\n"
   ],
   "execution_count": null,
   "outputs": []
  },
  {
   "cell_type": "code",
   "metadata": {
    "id": "dWHYTwA0IVWv"
   },
   "source": [
    "# Bringen Sie data1_sum durch Summenbildung auf eine höhere Frequenz (stündlich). (statt .mean() verwenden Sie .sum())\n",
    "\n",
    "# Ausgabe der ersten Zeilen zur Kontrolle:\n"
   ],
   "execution_count": null,
   "outputs": []
  },
  {
   "cell_type": "code",
   "metadata": {
    "id": "QYSOso6jIVWv"
   },
   "source": [
    "# Bringen Sie den Datensatz data1_binary auf eine höhere Frequenz (stündlich). \n",
    "# Dafür soll immer der Wert des Merkmals Occupancy zu vollen Stunde genommen werden, die anderen Werte sollen verworfen werden. \n",
    "\n",
    "\n",
    "# Ausgabe der ersten Zeilen zur Kontrolle:\n"
   ],
   "execution_count": null,
   "outputs": []
  },
  {
   "cell_type": "code",
   "metadata": {
    "colab": {
     "base_uri": "https://localhost:8080/",
     "height": 237
    },
    "id": "tUr7_65mIVWw",
    "outputId": "f4e2c0eb-7ab6-41d8-9542-02711e05a3fc"
   },
   "source": [
    "# Daten zusammenfügen\n",
    "data = pd.concat([data2, data1_resampled_sum, data1_resampled_mean, data1_resampled_binary], axis=1)\n",
    "\n",
    "data.head()"
   ],
   "execution_count": null,
   "outputs": []
  },
  {
   "cell_type": "code",
   "metadata": {
    "id": "fhXf3j4TIVWw"
   },
   "source": [
    "# Entfernen von Zeilen mit mind. 1x NaN falls vorhanden:\n",
    "data.dropna(inplace=True)"
   ],
   "execution_count": null,
   "outputs": []
  },
  {
   "cell_type": "code",
   "metadata": {
    "colab": {
     "base_uri": "https://localhost:8080/",
     "height": 237
    },
    "id": "9XOd0ZFXIVWw",
    "outputId": "a0471306-3557-40b4-aa9f-8dd18549a15c"
   },
   "source": [
    "# Ausgabe der ersten Zeilen von data\n",
    "data.head()"
   ],
   "execution_count": null,
   "outputs": []
  },
  {
   "cell_type": "code",
   "metadata": {
    "colab": {
     "base_uri": "https://localhost:8080/"
    },
    "id": "iwufel7hIVWw",
    "outputId": "994e9b5e-cdf6-4d16-da6c-564066d58463"
   },
   "source": [
    "# Ausgabe der Anzahl NaN in den jeweiligen Spalten\n",
    "\n",
    "data.isna().sum()"
   ],
   "execution_count": null,
   "outputs": []
  },
  {
   "cell_type": "code",
   "metadata": {
    "id": "yJdvLn6bIVWw"
   },
   "source": [],
   "execution_count": null,
   "outputs": []
  }
 ]
}
