{
 "nbformat": 4,
 "nbformat_minor": 0,
 "metadata": {
  "kernelspec": {
   "display_name": "Python 3",
   "language": "python",
   "name": "python3"
  },
  "language_info": {
   "codemirror_mode": {
    "name": "ipython",
    "version": 3
   },
   "file_extension": ".py",
   "mimetype": "text/x-python",
   "name": "python",
   "nbconvert_exporter": "python",
   "pygments_lexer": "ipython3",
   "version": "3.7.0"
  },
  "colab": {
   "name": "HandsOnPython_02_DatenEinlesen_Indexieren.ipynb",
   "provenance": []
  }
 },
 "cells": [
  {
   "cell_type": "markdown",
   "metadata": {
    "id": "WoVTNQP0gOWk"
   },
   "source": [
    "# Python Basics 2\n",
    "\n",
    "Dieses Notebook klärt folgende Fragen:\n",
    "- Wie kann ich Daten einlesen?\n",
    "- Wie kann ich die eingelesenen Daten anzeigen?\n",
    "- Wie kann ich die Datentypen der einzelnen Merkmale (Variablen) anzeigen?\n",
    "- Indexierung: Wie greife ich auf einzelne Elemente des Datensatzes zu?\n",
    "- Indexierung bei Zeitreihen: Wie kann ich auf elegante Art und Weise mit Zeitstempeln arbeiten?\n",
    "\n",
    "Hilfreich bei der Bearbeitung ist das Cheat Sheet, welches die wichtigsten grundlegenden Python Befehle zur Datenanalyse zusammenfasst. Sie finden das Cheat Sheet auf ILIAS."
   ]
  },
  {
   "cell_type": "markdown",
   "metadata": {
    "id": "WA34hXh6gOWw"
   },
   "source": [
    "## Benötigte Bibliothek pandas einbinden"
   ]
  },
  {
   "cell_type": "code",
   "metadata": {
    "id": "7MSkBCVVgOWx"
   },
   "source": [
    "# Importieren sie die Bibliothek pandas, vergeben Sie dazu das Kürzel pd\n",
    "# s. Cheat Sheet unter \"Dateien einlesen\n",
    "import pandas as pd"
   ],
   "execution_count": 4,
   "outputs": []
  },
  {
   "cell_type": "markdown",
   "metadata": {
    "id": "_XATPdykgOW1"
   },
   "source": [
    "## Daten einlesen über Pandas Funktion pd.read_csv('Pfadname')"
   ]
  },
  {
   "cell_type": "code",
   "metadata": {
    "id": "GXzWBt0fgOW2",
    "colab": {
     "base_uri": "https://localhost:8080/"
    },
    "outputId": "0a3261ab-d90f-4d0f-d570-1511b319437e"
   },
   "source": [
    "# Lesen Sie datensatz1.csv ein\n",
    "# s. Cheat Sheet unter \"Dateien einlesen\"\n",
    "\n",
    "#from google.colab import drive\n",
    "#drive.mount('/content/drive')\n",
    "\n",
    "\n"
   ],
   "execution_count": 3,
   "outputs": [
    {
     "ename": "ModuleNotFoundError",
     "evalue": "No module named 'google'",
     "output_type": "error",
     "traceback": [
      "\u001B[1;31m---------------------------------------------------------------------------\u001B[0m",
      "\u001B[1;31mModuleNotFoundError\u001B[0m                       Traceback (most recent call last)",
      "Cell \u001B[1;32mIn [3], line 4\u001B[0m\n\u001B[0;32m      1\u001B[0m \u001B[38;5;66;03m# Lesen Sie datensatz1.csv ein\u001B[39;00m\n\u001B[0;32m      2\u001B[0m \u001B[38;5;66;03m# s. Cheat Sheet unter \"Dateien einlesen\"\u001B[39;00m\n\u001B[1;32m----> 4\u001B[0m \u001B[38;5;28;01mfrom\u001B[39;00m \u001B[38;5;21;01mgoogle\u001B[39;00m\u001B[38;5;21;01m.\u001B[39;00m\u001B[38;5;21;01mcolab\u001B[39;00m \u001B[38;5;28;01mimport\u001B[39;00m drive\n\u001B[0;32m      5\u001B[0m drive\u001B[38;5;241m.\u001B[39mmount(\u001B[38;5;124m'\u001B[39m\u001B[38;5;124m/content/drive\u001B[39m\u001B[38;5;124m'\u001B[39m)\n",
      "\u001B[1;31mModuleNotFoundError\u001B[0m: No module named 'google'"
     ]
    }
   ]
  },
  {
   "cell_type": "code",
   "metadata": {
    "id": "jX1v92E9w_CC"
   },
   "source": [
    "#raw_data = pd.read_csv('/content/drive/My Drive/datensatz1.csv')\n",
    "raw_data = pd.read_csv('datensatz1.csv')\n",
    "\n",
    "# Die Daten sind nun in einem pandas data frame gespeichert. \n",
    "# Die Anzahl der Zeilen und Spalten des data frames kann über das Attribut shape ausgegeben werden: \n",
    "# (bitte im Folgenden immer vervollständigen)\n",
    "\n"
   ],
   "execution_count": 6,
   "outputs": []
  },
  {
   "cell_type": "code",
   "metadata": {
    "id": "7aJxnPaTgOW4"
   },
   "source": [
    "# die Datentypen der einzelnen Spalten können mit dtypes angezeigt werden (bitte vervollständigen):\n",
    "raw_data.dtypes"
   ],
   "execution_count": 19,
   "outputs": [
    {
     "data": {
      "text/plain": "Date            object\nConsumption    float64\nWind           float64\nSolar          float64\ndtype: object"
     },
     "execution_count": 19,
     "metadata": {},
     "output_type": "execute_result"
    }
   ]
  },
  {
   "cell_type": "code",
   "metadata": {
    "id": "4HP8-5kKgOW5"
   },
   "source": [
    "# ersten paar Zeilen anzeigen mit head():\n",
    "raw_data.head(1)"
   ],
   "execution_count": 9,
   "outputs": [
    {
     "data": {
      "text/plain": "         Date  Consumption     Wind  Solar\n0  2012-01-01      948.128  227.465  6.587",
      "text/html": "<div>\n<style scoped>\n    .dataframe tbody tr th:only-of-type {\n        vertical-align: middle;\n    }\n\n    .dataframe tbody tr th {\n        vertical-align: top;\n    }\n\n    .dataframe thead th {\n        text-align: right;\n    }\n</style>\n<table border=\"1\" class=\"dataframe\">\n  <thead>\n    <tr style=\"text-align: right;\">\n      <th></th>\n      <th>Date</th>\n      <th>Consumption</th>\n      <th>Wind</th>\n      <th>Solar</th>\n    </tr>\n  </thead>\n  <tbody>\n    <tr>\n      <th>0</th>\n      <td>2012-01-01</td>\n      <td>948.128</td>\n      <td>227.465</td>\n      <td>6.587</td>\n    </tr>\n  </tbody>\n</table>\n</div>"
     },
     "execution_count": 9,
     "metadata": {},
     "output_type": "execute_result"
    }
   ]
  },
  {
   "cell_type": "code",
   "metadata": {
    "id": "axd8EwcugOW7"
   },
   "source": [
    "# letzten paar Zeilen anzeigen mit tail():\n",
    "raw_data.tail(1)"
   ],
   "execution_count": 51,
   "outputs": [
    {
     "data": {
      "text/plain": "            Date  Consumption     Wind   Solar\n2182  2017-12-27   1263.94091  394.507  16.530\n2183  2017-12-28   1299.86398  506.424  14.162\n2184  2017-12-29   1295.08753  584.277  29.854\n2185  2017-12-30   1215.44897  721.247   7.467\n2186  2017-12-31   1107.11488  721.176  19.980",
      "text/html": "<div>\n<style scoped>\n    .dataframe tbody tr th:only-of-type {\n        vertical-align: middle;\n    }\n\n    .dataframe tbody tr th {\n        vertical-align: top;\n    }\n\n    .dataframe thead th {\n        text-align: right;\n    }\n</style>\n<table border=\"1\" class=\"dataframe\">\n  <thead>\n    <tr style=\"text-align: right;\">\n      <th></th>\n      <th>Date</th>\n      <th>Consumption</th>\n      <th>Wind</th>\n      <th>Solar</th>\n    </tr>\n  </thead>\n  <tbody>\n    <tr>\n      <th>2182</th>\n      <td>2017-12-27</td>\n      <td>1263.94091</td>\n      <td>394.507</td>\n      <td>16.530</td>\n    </tr>\n    <tr>\n      <th>2183</th>\n      <td>2017-12-28</td>\n      <td>1299.86398</td>\n      <td>506.424</td>\n      <td>14.162</td>\n    </tr>\n    <tr>\n      <th>2184</th>\n      <td>2017-12-29</td>\n      <td>1295.08753</td>\n      <td>584.277</td>\n      <td>29.854</td>\n    </tr>\n    <tr>\n      <th>2185</th>\n      <td>2017-12-30</td>\n      <td>1215.44897</td>\n      <td>721.247</td>\n      <td>7.467</td>\n    </tr>\n    <tr>\n      <th>2186</th>\n      <td>2017-12-31</td>\n      <td>1107.11488</td>\n      <td>721.176</td>\n      <td>19.980</td>\n    </tr>\n  </tbody>\n</table>\n</div>"
     },
     "execution_count": 51,
     "metadata": {},
     "output_type": "execute_result"
    }
   ]
  },
  {
   "cell_type": "code",
   "metadata": {
    "id": "982PFxxYgOW-"
   },
   "source": [
    "# 7 zufällige Zeilen ausgeben:\n",
    "raw_data.sample(7)"
   ],
   "execution_count": 42,
   "outputs": [
    {
     "data": {
      "text/plain": "            Date  Consumption     Wind    Solar\n1951  2017-05-10     1425.515  107.246  204.901\n945   2014-08-08     1336.572   46.413  168.660\n1195  2015-04-15     1455.666  290.280  193.770\n1943  2017-05-02     1452.669  403.340   91.070\n1584  2016-05-08     1072.653  390.557  217.819\n553   2013-07-09     1305.309   31.469  195.691\n834   2014-04-19     1146.115  162.251  142.375",
      "text/html": "<div>\n<style scoped>\n    .dataframe tbody tr th:only-of-type {\n        vertical-align: middle;\n    }\n\n    .dataframe tbody tr th {\n        vertical-align: top;\n    }\n\n    .dataframe thead th {\n        text-align: right;\n    }\n</style>\n<table border=\"1\" class=\"dataframe\">\n  <thead>\n    <tr style=\"text-align: right;\">\n      <th></th>\n      <th>Date</th>\n      <th>Consumption</th>\n      <th>Wind</th>\n      <th>Solar</th>\n    </tr>\n  </thead>\n  <tbody>\n    <tr>\n      <th>1951</th>\n      <td>2017-05-10</td>\n      <td>1425.515</td>\n      <td>107.246</td>\n      <td>204.901</td>\n    </tr>\n    <tr>\n      <th>945</th>\n      <td>2014-08-08</td>\n      <td>1336.572</td>\n      <td>46.413</td>\n      <td>168.660</td>\n    </tr>\n    <tr>\n      <th>1195</th>\n      <td>2015-04-15</td>\n      <td>1455.666</td>\n      <td>290.280</td>\n      <td>193.770</td>\n    </tr>\n    <tr>\n      <th>1943</th>\n      <td>2017-05-02</td>\n      <td>1452.669</td>\n      <td>403.340</td>\n      <td>91.070</td>\n    </tr>\n    <tr>\n      <th>1584</th>\n      <td>2016-05-08</td>\n      <td>1072.653</td>\n      <td>390.557</td>\n      <td>217.819</td>\n    </tr>\n    <tr>\n      <th>553</th>\n      <td>2013-07-09</td>\n      <td>1305.309</td>\n      <td>31.469</td>\n      <td>195.691</td>\n    </tr>\n    <tr>\n      <th>834</th>\n      <td>2014-04-19</td>\n      <td>1146.115</td>\n      <td>162.251</td>\n      <td>142.375</td>\n    </tr>\n  </tbody>\n</table>\n</div>"
     },
     "execution_count": 42,
     "metadata": {},
     "output_type": "execute_result"
    }
   ]
  },
  {
   "cell_type": "markdown",
   "metadata": {
    "id": "o2zTGJ-dgOXB"
   },
   "source": [
    "## Indexierung mit Zeilen- und Spaltennummer\n",
    "- Funktioniert mit data.iloc[Zeilenindex, Spaltenindex]"
   ]
  },
  {
   "cell_type": "code",
   "metadata": {
    "id": "nOMthreZgOXD"
   },
   "source": [
    "# Wert in Zeile 1, Spalte 3 ausgeben\n",
    "raw_data.iloc[0,2]"
   ],
   "execution_count": 55,
   "outputs": [
    {
     "data": {
      "text/plain": "227.4650000000001"
     },
     "execution_count": 55,
     "metadata": {},
     "output_type": "execute_result"
    }
   ]
  },
  {
   "cell_type": "code",
   "metadata": {
    "id": "-LJUuPfTgOXD"
   },
   "source": [
    "# Wert in letzter Zeile, Spalte 3 ausgeben\n",
    "raw_data.iloc[-1,2]"
   ],
   "execution_count": 30,
   "outputs": [
    {
     "data": {
      "text/plain": "19.98"
     },
     "execution_count": 30,
     "metadata": {},
     "output_type": "execute_result"
    }
   ]
  },
  {
   "cell_type": "code",
   "metadata": {
    "id": "hXHc9JSCgOXE"
   },
   "source": [
    "# zur Kontrolle tail()\n"
   ],
   "execution_count": null,
   "outputs": []
  },
  {
   "cell_type": "code",
   "metadata": {
    "id": "AHwof7YMgOXF"
   },
   "source": [
    "# 1. Zeile ausgeben\n",
    "raw_data.tail().iloc[0]"
   ],
   "execution_count": 53,
   "outputs": [
    {
     "data": {
      "text/plain": "Date           2017-12-27\nConsumption    1263.94091\nWind              394.507\nSolar               16.53\nName: 2182, dtype: object"
     },
     "execution_count": 53,
     "metadata": {},
     "output_type": "execute_result"
    }
   ]
  },
  {
   "cell_type": "code",
   "metadata": {
    "id": "SuipXSaYgOXG"
   },
   "source": [
    "# 2. Spalte ausgeben\n",
    "raw_data.tail().iloc[:,1]"
   ],
   "execution_count": 54,
   "outputs": [
    {
     "data": {
      "text/plain": "2182    1263.94091\n2183    1299.86398\n2184    1295.08753\n2185    1215.44897\n2186    1107.11488\nName: Consumption, dtype: float64"
     },
     "execution_count": 54,
     "metadata": {},
     "output_type": "execute_result"
    }
   ]
  },
  {
   "cell_type": "code",
   "metadata": {
    "id": "BQitg0xygOXG"
   },
   "source": [
    "# zur Kontrolle head()\n"
   ],
   "execution_count": null,
   "outputs": []
  },
  {
   "cell_type": "code",
   "metadata": {
    "id": "0wPwbRuLgOXH"
   },
   "source": [
    "# Zeilen mit den Indizes 5 bis 15 ausgeben\n",
    "raw_data.head(16).iloc[5:, :]"
   ],
   "execution_count": 58,
   "outputs": [
    {
     "data": {
      "text/plain": "          Date  Consumption     Wind   Solar\n5   2012-01-06     1291.215  286.265  13.160\n6   2012-01-07     1175.688  368.288   4.115\n7   2012-01-08     1103.383  220.851   8.440\n8   2012-01-09     1443.371  151.837   5.264\n9   2012-01-10     1434.631  175.995  17.827\n10  2012-01-11     1449.768  197.434  10.849\n11  2012-01-12     1442.448  446.327  18.023\n12  2012-01-13     1403.402  415.106  18.778\n13  2012-01-14     1203.165  174.690  26.772\n14  2012-01-15     1150.920   34.468  36.609\n15  2012-01-16     1487.782   52.345  39.682",
      "text/html": "<div>\n<style scoped>\n    .dataframe tbody tr th:only-of-type {\n        vertical-align: middle;\n    }\n\n    .dataframe tbody tr th {\n        vertical-align: top;\n    }\n\n    .dataframe thead th {\n        text-align: right;\n    }\n</style>\n<table border=\"1\" class=\"dataframe\">\n  <thead>\n    <tr style=\"text-align: right;\">\n      <th></th>\n      <th>Date</th>\n      <th>Consumption</th>\n      <th>Wind</th>\n      <th>Solar</th>\n    </tr>\n  </thead>\n  <tbody>\n    <tr>\n      <th>5</th>\n      <td>2012-01-06</td>\n      <td>1291.215</td>\n      <td>286.265</td>\n      <td>13.160</td>\n    </tr>\n    <tr>\n      <th>6</th>\n      <td>2012-01-07</td>\n      <td>1175.688</td>\n      <td>368.288</td>\n      <td>4.115</td>\n    </tr>\n    <tr>\n      <th>7</th>\n      <td>2012-01-08</td>\n      <td>1103.383</td>\n      <td>220.851</td>\n      <td>8.440</td>\n    </tr>\n    <tr>\n      <th>8</th>\n      <td>2012-01-09</td>\n      <td>1443.371</td>\n      <td>151.837</td>\n      <td>5.264</td>\n    </tr>\n    <tr>\n      <th>9</th>\n      <td>2012-01-10</td>\n      <td>1434.631</td>\n      <td>175.995</td>\n      <td>17.827</td>\n    </tr>\n    <tr>\n      <th>10</th>\n      <td>2012-01-11</td>\n      <td>1449.768</td>\n      <td>197.434</td>\n      <td>10.849</td>\n    </tr>\n    <tr>\n      <th>11</th>\n      <td>2012-01-12</td>\n      <td>1442.448</td>\n      <td>446.327</td>\n      <td>18.023</td>\n    </tr>\n    <tr>\n      <th>12</th>\n      <td>2012-01-13</td>\n      <td>1403.402</td>\n      <td>415.106</td>\n      <td>18.778</td>\n    </tr>\n    <tr>\n      <th>13</th>\n      <td>2012-01-14</td>\n      <td>1203.165</td>\n      <td>174.690</td>\n      <td>26.772</td>\n    </tr>\n    <tr>\n      <th>14</th>\n      <td>2012-01-15</td>\n      <td>1150.920</td>\n      <td>34.468</td>\n      <td>36.609</td>\n    </tr>\n    <tr>\n      <th>15</th>\n      <td>2012-01-16</td>\n      <td>1487.782</td>\n      <td>52.345</td>\n      <td>39.682</td>\n    </tr>\n  </tbody>\n</table>\n</div>"
     },
     "execution_count": 58,
     "metadata": {},
     "output_type": "execute_result"
    }
   ]
  },
  {
   "cell_type": "code",
   "metadata": {
    "id": "Xvv-BlMogOXH"
   },
   "source": [
    "# Zeilen 5 bis 15 von Spalten 1 bis 3 ausgeben\n",
    "raw_data.head(16).iloc[5:, 1:]"
   ],
   "execution_count": 59,
   "outputs": [
    {
     "data": {
      "text/plain": "    Consumption     Wind   Solar\n5      1291.215  286.265  13.160\n6      1175.688  368.288   4.115\n7      1103.383  220.851   8.440\n8      1443.371  151.837   5.264\n9      1434.631  175.995  17.827\n10     1449.768  197.434  10.849\n11     1442.448  446.327  18.023\n12     1403.402  415.106  18.778\n13     1203.165  174.690  26.772\n14     1150.920   34.468  36.609\n15     1487.782   52.345  39.682",
      "text/html": "<div>\n<style scoped>\n    .dataframe tbody tr th:only-of-type {\n        vertical-align: middle;\n    }\n\n    .dataframe tbody tr th {\n        vertical-align: top;\n    }\n\n    .dataframe thead th {\n        text-align: right;\n    }\n</style>\n<table border=\"1\" class=\"dataframe\">\n  <thead>\n    <tr style=\"text-align: right;\">\n      <th></th>\n      <th>Consumption</th>\n      <th>Wind</th>\n      <th>Solar</th>\n    </tr>\n  </thead>\n  <tbody>\n    <tr>\n      <th>5</th>\n      <td>1291.215</td>\n      <td>286.265</td>\n      <td>13.160</td>\n    </tr>\n    <tr>\n      <th>6</th>\n      <td>1175.688</td>\n      <td>368.288</td>\n      <td>4.115</td>\n    </tr>\n    <tr>\n      <th>7</th>\n      <td>1103.383</td>\n      <td>220.851</td>\n      <td>8.440</td>\n    </tr>\n    <tr>\n      <th>8</th>\n      <td>1443.371</td>\n      <td>151.837</td>\n      <td>5.264</td>\n    </tr>\n    <tr>\n      <th>9</th>\n      <td>1434.631</td>\n      <td>175.995</td>\n      <td>17.827</td>\n    </tr>\n    <tr>\n      <th>10</th>\n      <td>1449.768</td>\n      <td>197.434</td>\n      <td>10.849</td>\n    </tr>\n    <tr>\n      <th>11</th>\n      <td>1442.448</td>\n      <td>446.327</td>\n      <td>18.023</td>\n    </tr>\n    <tr>\n      <th>12</th>\n      <td>1403.402</td>\n      <td>415.106</td>\n      <td>18.778</td>\n    </tr>\n    <tr>\n      <th>13</th>\n      <td>1203.165</td>\n      <td>174.690</td>\n      <td>26.772</td>\n    </tr>\n    <tr>\n      <th>14</th>\n      <td>1150.920</td>\n      <td>34.468</td>\n      <td>36.609</td>\n    </tr>\n    <tr>\n      <th>15</th>\n      <td>1487.782</td>\n      <td>52.345</td>\n      <td>39.682</td>\n    </tr>\n  </tbody>\n</table>\n</div>"
     },
     "execution_count": 59,
     "metadata": {},
     "output_type": "execute_result"
    }
   ]
  },
  {
   "cell_type": "markdown",
   "metadata": {
    "id": "JfK7KP0ngOXI"
   },
   "source": [
    "## Zeitstempel als Index setzen\n",
    "Da eine Indexierung über Zeilen- und Spaltennummer bei dem Datensatz eher umständlich ist, wollen wir lieber über das Datum und den Spaltennamen gehen. \n",
    "Dazu setzen wir den Zeitstempel als Index und verwenden später diesen anstatt der Zeilennummer"
   ]
  },
  {
   "cell_type": "code",
   "metadata": {
    "id": "WajIzwhFgOXI"
   },
   "source": [
    "# 1. Schritt (optional): Erzeuge ein neues Data Frame mit einer Kopie der Rohdaten. Das neue data frame wird data genannt.\n",
    "data = raw_data.copy()\n",
    "\n",
    "# 2. Schritt: Ändere im neuen data frame das Format der Spalte 'Date' zu datetimes. \n",
    "# s. Cheat sheet unter \"Mit dem Zeitstempel indizieren\"\n",
    "data[\"Date\"] = pd.to_datetime(data['Date'])"
   ],
   "execution_count": 65,
   "outputs": []
  },
  {
   "cell_type": "code",
   "metadata": {
    "id": "cmmLJ4WTgOXJ"
   },
   "source": [
    "# Überprüfe, ob die Umwandlung geklappt hat\n",
    "print('Rohdatensatz:')\n",
    "print(raw_data['Date'].head(), '\\n')\n",
    "\n",
    "print('Neuer Datensatz:')\n",
    "print(data['Date'].head(),'\\n')\n",
    "\n",
    "print('Alle Datentypen des Datensatzes:')\n",
    "print(data.dtypes)"
   ],
   "execution_count": 66,
   "outputs": [
    {
     "name": "stdout",
     "output_type": "stream",
     "text": [
      "Rohdatensatz:\n",
      "0    2012-01-01\n",
      "1    2012-01-02\n",
      "2    2012-01-03\n",
      "3    2012-01-04\n",
      "4    2012-01-05\n",
      "Name: Date, dtype: object \n",
      "\n",
      "Neuer Datensatz:\n",
      "0   2012-01-01\n",
      "1   2012-01-02\n",
      "2   2012-01-03\n",
      "3   2012-01-04\n",
      "4   2012-01-05\n",
      "Name: Date, dtype: datetime64[ns] \n",
      "\n",
      "Alle Datentypen des Datensatzes:\n",
      "Date           datetime64[ns]\n",
      "Consumption           float64\n",
      "Wind                  float64\n",
      "Solar                 float64\n",
      "dtype: object\n"
     ]
    }
   ]
  },
  {
   "cell_type": "code",
   "metadata": {
    "id": "e_toiFKZgOXK"
   },
   "source": [
    "# 3. Schritt: Setze die Spalte 'Date' als neuen Index, siehe Cheat sheet:\n",
    "data.set_index(\"Date\", inplace=True)\n",
    "# Überprüfen durch Ausgabe der ersten Spalten des data frames:\n"
   ],
   "execution_count": 95,
   "outputs": [
    {
     "ename": "KeyError",
     "evalue": "\"None of ['Date'] are in the columns\"",
     "output_type": "error",
     "traceback": [
      "\u001B[1;31m---------------------------------------------------------------------------\u001B[0m",
      "\u001B[1;31mKeyError\u001B[0m                                  Traceback (most recent call last)",
      "Cell \u001B[1;32mIn [95], line 2\u001B[0m\n\u001B[0;32m      1\u001B[0m \u001B[38;5;66;03m# 3. Schritt: Setze die Spalte 'Date' als neuen Index, siehe Cheat sheet:\u001B[39;00m\n\u001B[1;32m----> 2\u001B[0m \u001B[43mdata\u001B[49m\u001B[38;5;241;43m.\u001B[39;49m\u001B[43mset_index\u001B[49m\u001B[43m(\u001B[49m\u001B[38;5;124;43m\"\u001B[39;49m\u001B[38;5;124;43mDate\u001B[39;49m\u001B[38;5;124;43m\"\u001B[39;49m\u001B[43m,\u001B[49m\u001B[43m \u001B[49m\u001B[43minplace\u001B[49m\u001B[38;5;241;43m=\u001B[39;49m\u001B[38;5;28;43;01mTrue\u001B[39;49;00m\u001B[43m)\u001B[49m\n\u001B[0;32m      3\u001B[0m \u001B[38;5;66;03m# Überprüfen durch Ausgabe der ersten Spalten des data frames:\u001B[39;00m\n\u001B[0;32m      4\u001B[0m data\u001B[38;5;241m.\u001B[39mhead(\u001B[38;5;241m1\u001B[39m)\n",
      "File \u001B[1;32m~\\Documents\\ada\\venv\\lib\\site-packages\\pandas\\util\\_decorators.py:331\u001B[0m, in \u001B[0;36mdeprecate_nonkeyword_arguments.<locals>.decorate.<locals>.wrapper\u001B[1;34m(*args, **kwargs)\u001B[0m\n\u001B[0;32m    325\u001B[0m \u001B[38;5;28;01mif\u001B[39;00m \u001B[38;5;28mlen\u001B[39m(args) \u001B[38;5;241m>\u001B[39m num_allow_args:\n\u001B[0;32m    326\u001B[0m     warnings\u001B[38;5;241m.\u001B[39mwarn(\n\u001B[0;32m    327\u001B[0m         msg\u001B[38;5;241m.\u001B[39mformat(arguments\u001B[38;5;241m=\u001B[39m_format_argument_list(allow_args)),\n\u001B[0;32m    328\u001B[0m         \u001B[38;5;167;01mFutureWarning\u001B[39;00m,\n\u001B[0;32m    329\u001B[0m         stacklevel\u001B[38;5;241m=\u001B[39mfind_stack_level(),\n\u001B[0;32m    330\u001B[0m     )\n\u001B[1;32m--> 331\u001B[0m \u001B[38;5;28;01mreturn\u001B[39;00m func(\u001B[38;5;241m*\u001B[39margs, \u001B[38;5;241m*\u001B[39m\u001B[38;5;241m*\u001B[39mkwargs)\n",
      "File \u001B[1;32m~\\Documents\\ada\\venv\\lib\\site-packages\\pandas\\core\\frame.py:6001\u001B[0m, in \u001B[0;36mDataFrame.set_index\u001B[1;34m(self, keys, drop, append, inplace, verify_integrity)\u001B[0m\n\u001B[0;32m   5998\u001B[0m                 missing\u001B[38;5;241m.\u001B[39mappend(col)\n\u001B[0;32m   6000\u001B[0m \u001B[38;5;28;01mif\u001B[39;00m missing:\n\u001B[1;32m-> 6001\u001B[0m     \u001B[38;5;28;01mraise\u001B[39;00m \u001B[38;5;167;01mKeyError\u001B[39;00m(\u001B[38;5;124mf\u001B[39m\u001B[38;5;124m\"\u001B[39m\u001B[38;5;124mNone of \u001B[39m\u001B[38;5;132;01m{\u001B[39;00mmissing\u001B[38;5;132;01m}\u001B[39;00m\u001B[38;5;124m are in the columns\u001B[39m\u001B[38;5;124m\"\u001B[39m)\n\u001B[0;32m   6003\u001B[0m \u001B[38;5;28;01mif\u001B[39;00m inplace:\n\u001B[0;32m   6004\u001B[0m     frame \u001B[38;5;241m=\u001B[39m \u001B[38;5;28mself\u001B[39m\n",
      "\u001B[1;31mKeyError\u001B[0m: \"None of ['Date'] are in the columns\""
     ]
    }
   ]
  },
  {
   "cell_type": "code",
   "execution_count": 96,
   "outputs": [
    {
     "data": {
      "text/plain": "            Consumption     Wind  Solar\nDate                                   \n2012-01-01      948.128  227.465  6.587",
      "text/html": "<div>\n<style scoped>\n    .dataframe tbody tr th:only-of-type {\n        vertical-align: middle;\n    }\n\n    .dataframe tbody tr th {\n        vertical-align: top;\n    }\n\n    .dataframe thead th {\n        text-align: right;\n    }\n</style>\n<table border=\"1\" class=\"dataframe\">\n  <thead>\n    <tr style=\"text-align: right;\">\n      <th></th>\n      <th>Consumption</th>\n      <th>Wind</th>\n      <th>Solar</th>\n    </tr>\n    <tr>\n      <th>Date</th>\n      <th></th>\n      <th></th>\n      <th></th>\n    </tr>\n  </thead>\n  <tbody>\n    <tr>\n      <th>2012-01-01</th>\n      <td>948.128</td>\n      <td>227.465</td>\n      <td>6.587</td>\n    </tr>\n  </tbody>\n</table>\n</div>"
     },
     "execution_count": 96,
     "metadata": {},
     "output_type": "execute_result"
    }
   ],
   "source": [
    "data.head(1)"
   ],
   "metadata": {
    "collapsed": false
   }
  },
  {
   "cell_type": "markdown",
   "metadata": {
    "id": "Z0cvLKMZgOXK"
   },
   "source": [
    "## Mit Zeitstempel indexieren"
   ]
  },
  {
   "cell_type": "code",
   "metadata": {
    "id": "nAivl_WygOXL"
   },
   "source": [
    "# Alle Daten aus dem Jahr 2013:\n",
    "data.loc[\"2013\"]"
   ],
   "execution_count": 70,
   "outputs": [
    {
     "data": {
      "text/plain": "            Consumption     Wind   Solar\nDate                                    \n2013-01-01      906.910  262.438  14.218\n2013-01-02     1160.174  224.867  26.010\n2013-01-03     1199.565  387.143   6.058\n2013-01-04     1198.952  342.443   4.976\n2013-01-05     1108.271  140.410   4.970\n...                 ...      ...     ...\n2013-12-27     1166.552  395.736  41.011\n2013-12-28     1089.790  208.514  21.028\n2013-12-29     1031.149  213.978  20.933\n2013-12-30     1149.097  254.119  47.097\n2013-12-31     1068.429  174.670  43.219\n\n[363 rows x 3 columns]",
      "text/html": "<div>\n<style scoped>\n    .dataframe tbody tr th:only-of-type {\n        vertical-align: middle;\n    }\n\n    .dataframe tbody tr th {\n        vertical-align: top;\n    }\n\n    .dataframe thead th {\n        text-align: right;\n    }\n</style>\n<table border=\"1\" class=\"dataframe\">\n  <thead>\n    <tr style=\"text-align: right;\">\n      <th></th>\n      <th>Consumption</th>\n      <th>Wind</th>\n      <th>Solar</th>\n    </tr>\n    <tr>\n      <th>Date</th>\n      <th></th>\n      <th></th>\n      <th></th>\n    </tr>\n  </thead>\n  <tbody>\n    <tr>\n      <th>2013-01-01</th>\n      <td>906.910</td>\n      <td>262.438</td>\n      <td>14.218</td>\n    </tr>\n    <tr>\n      <th>2013-01-02</th>\n      <td>1160.174</td>\n      <td>224.867</td>\n      <td>26.010</td>\n    </tr>\n    <tr>\n      <th>2013-01-03</th>\n      <td>1199.565</td>\n      <td>387.143</td>\n      <td>6.058</td>\n    </tr>\n    <tr>\n      <th>2013-01-04</th>\n      <td>1198.952</td>\n      <td>342.443</td>\n      <td>4.976</td>\n    </tr>\n    <tr>\n      <th>2013-01-05</th>\n      <td>1108.271</td>\n      <td>140.410</td>\n      <td>4.970</td>\n    </tr>\n    <tr>\n      <th>...</th>\n      <td>...</td>\n      <td>...</td>\n      <td>...</td>\n    </tr>\n    <tr>\n      <th>2013-12-27</th>\n      <td>1166.552</td>\n      <td>395.736</td>\n      <td>41.011</td>\n    </tr>\n    <tr>\n      <th>2013-12-28</th>\n      <td>1089.790</td>\n      <td>208.514</td>\n      <td>21.028</td>\n    </tr>\n    <tr>\n      <th>2013-12-29</th>\n      <td>1031.149</td>\n      <td>213.978</td>\n      <td>20.933</td>\n    </tr>\n    <tr>\n      <th>2013-12-30</th>\n      <td>1149.097</td>\n      <td>254.119</td>\n      <td>47.097</td>\n    </tr>\n    <tr>\n      <th>2013-12-31</th>\n      <td>1068.429</td>\n      <td>174.670</td>\n      <td>43.219</td>\n    </tr>\n  </tbody>\n</table>\n<p>363 rows × 3 columns</p>\n</div>"
     },
     "execution_count": 70,
     "metadata": {},
     "output_type": "execute_result"
    }
   ]
  },
  {
   "cell_type": "code",
   "metadata": {
    "id": "ebfmwFWugOXM"
   },
   "source": [
    "# Überprüfen mit sample():\n",
    "data.loc[\"2013\"].sample()"
   ],
   "execution_count": 85,
   "outputs": [
    {
     "data": {
      "text/plain": "            Consumption     Wind   Solar\nDate                                    \n2013-02-14     1481.417  119.019  41.343",
      "text/html": "<div>\n<style scoped>\n    .dataframe tbody tr th:only-of-type {\n        vertical-align: middle;\n    }\n\n    .dataframe tbody tr th {\n        vertical-align: top;\n    }\n\n    .dataframe thead th {\n        text-align: right;\n    }\n</style>\n<table border=\"1\" class=\"dataframe\">\n  <thead>\n    <tr style=\"text-align: right;\">\n      <th></th>\n      <th>Consumption</th>\n      <th>Wind</th>\n      <th>Solar</th>\n    </tr>\n    <tr>\n      <th>Date</th>\n      <th></th>\n      <th></th>\n      <th></th>\n    </tr>\n  </thead>\n  <tbody>\n    <tr>\n      <th>2013-02-14</th>\n      <td>1481.417</td>\n      <td>119.019</td>\n      <td>41.343</td>\n    </tr>\n  </tbody>\n</table>\n</div>"
     },
     "execution_count": 85,
     "metadata": {},
     "output_type": "execute_result"
    }
   ]
  },
  {
   "cell_type": "code",
   "metadata": {
    "id": "hHq_P37agOXN"
   },
   "source": [
    "# alle Daten aus dem März 2014:\n",
    "data.loc[\"2014-03\"]"
   ],
   "execution_count": 81,
   "outputs": [
    {
     "data": {
      "text/plain": "            Consumption     Wind    Solar\nDate                                     \n2014-03-01     1310.863   42.380   74.222\n2014-03-02     1205.382   79.034   58.509\n2014-03-03     1479.361  174.177   83.837\n2014-03-04     1521.878   19.160   70.862\n2014-03-05     1550.944   18.679   74.279\n2014-03-06     1546.473   54.556   91.283\n2014-03-07     1514.897  114.278  120.060\n2014-03-08     1279.162  107.357  131.284\n2014-03-09     1161.496  175.888  145.585\n2014-03-10     1479.230   94.246  145.402\n2014-03-11     1521.112  113.199  138.730\n2014-03-13     1510.033   22.425  147.203\n2014-03-14     1488.044  122.019  135.133\n2014-03-15     1303.214  510.579   46.959\n2014-03-16     1199.315  538.519   33.936\n2014-03-17     1498.042  354.408   84.790\n2014-03-18     1528.932  215.012   78.960\n2014-03-19     1524.762  405.654   66.495\n2014-03-20     1498.548  311.326  160.777\n2014-03-21     1474.562  289.345  114.934\n2014-03-22     1280.873  147.024   63.536\n2014-03-23     1176.870   71.096   59.828\n2014-03-24     1499.180   27.402   84.584\n2014-03-25     1521.834   39.216  107.847\n2014-03-26     1522.582   94.095  131.795\n2014-03-27     1510.903  192.194  156.117\n2014-03-28     1470.810  110.056  121.595\n2014-03-31     1446.114   14.138  112.798",
      "text/html": "<div>\n<style scoped>\n    .dataframe tbody tr th:only-of-type {\n        vertical-align: middle;\n    }\n\n    .dataframe tbody tr th {\n        vertical-align: top;\n    }\n\n    .dataframe thead th {\n        text-align: right;\n    }\n</style>\n<table border=\"1\" class=\"dataframe\">\n  <thead>\n    <tr style=\"text-align: right;\">\n      <th></th>\n      <th>Consumption</th>\n      <th>Wind</th>\n      <th>Solar</th>\n    </tr>\n    <tr>\n      <th>Date</th>\n      <th></th>\n      <th></th>\n      <th></th>\n    </tr>\n  </thead>\n  <tbody>\n    <tr>\n      <th>2014-03-01</th>\n      <td>1310.863</td>\n      <td>42.380</td>\n      <td>74.222</td>\n    </tr>\n    <tr>\n      <th>2014-03-02</th>\n      <td>1205.382</td>\n      <td>79.034</td>\n      <td>58.509</td>\n    </tr>\n    <tr>\n      <th>2014-03-03</th>\n      <td>1479.361</td>\n      <td>174.177</td>\n      <td>83.837</td>\n    </tr>\n    <tr>\n      <th>2014-03-04</th>\n      <td>1521.878</td>\n      <td>19.160</td>\n      <td>70.862</td>\n    </tr>\n    <tr>\n      <th>2014-03-05</th>\n      <td>1550.944</td>\n      <td>18.679</td>\n      <td>74.279</td>\n    </tr>\n    <tr>\n      <th>2014-03-06</th>\n      <td>1546.473</td>\n      <td>54.556</td>\n      <td>91.283</td>\n    </tr>\n    <tr>\n      <th>2014-03-07</th>\n      <td>1514.897</td>\n      <td>114.278</td>\n      <td>120.060</td>\n    </tr>\n    <tr>\n      <th>2014-03-08</th>\n      <td>1279.162</td>\n      <td>107.357</td>\n      <td>131.284</td>\n    </tr>\n    <tr>\n      <th>2014-03-09</th>\n      <td>1161.496</td>\n      <td>175.888</td>\n      <td>145.585</td>\n    </tr>\n    <tr>\n      <th>2014-03-10</th>\n      <td>1479.230</td>\n      <td>94.246</td>\n      <td>145.402</td>\n    </tr>\n    <tr>\n      <th>2014-03-11</th>\n      <td>1521.112</td>\n      <td>113.199</td>\n      <td>138.730</td>\n    </tr>\n    <tr>\n      <th>2014-03-13</th>\n      <td>1510.033</td>\n      <td>22.425</td>\n      <td>147.203</td>\n    </tr>\n    <tr>\n      <th>2014-03-14</th>\n      <td>1488.044</td>\n      <td>122.019</td>\n      <td>135.133</td>\n    </tr>\n    <tr>\n      <th>2014-03-15</th>\n      <td>1303.214</td>\n      <td>510.579</td>\n      <td>46.959</td>\n    </tr>\n    <tr>\n      <th>2014-03-16</th>\n      <td>1199.315</td>\n      <td>538.519</td>\n      <td>33.936</td>\n    </tr>\n    <tr>\n      <th>2014-03-17</th>\n      <td>1498.042</td>\n      <td>354.408</td>\n      <td>84.790</td>\n    </tr>\n    <tr>\n      <th>2014-03-18</th>\n      <td>1528.932</td>\n      <td>215.012</td>\n      <td>78.960</td>\n    </tr>\n    <tr>\n      <th>2014-03-19</th>\n      <td>1524.762</td>\n      <td>405.654</td>\n      <td>66.495</td>\n    </tr>\n    <tr>\n      <th>2014-03-20</th>\n      <td>1498.548</td>\n      <td>311.326</td>\n      <td>160.777</td>\n    </tr>\n    <tr>\n      <th>2014-03-21</th>\n      <td>1474.562</td>\n      <td>289.345</td>\n      <td>114.934</td>\n    </tr>\n    <tr>\n      <th>2014-03-22</th>\n      <td>1280.873</td>\n      <td>147.024</td>\n      <td>63.536</td>\n    </tr>\n    <tr>\n      <th>2014-03-23</th>\n      <td>1176.870</td>\n      <td>71.096</td>\n      <td>59.828</td>\n    </tr>\n    <tr>\n      <th>2014-03-24</th>\n      <td>1499.180</td>\n      <td>27.402</td>\n      <td>84.584</td>\n    </tr>\n    <tr>\n      <th>2014-03-25</th>\n      <td>1521.834</td>\n      <td>39.216</td>\n      <td>107.847</td>\n    </tr>\n    <tr>\n      <th>2014-03-26</th>\n      <td>1522.582</td>\n      <td>94.095</td>\n      <td>131.795</td>\n    </tr>\n    <tr>\n      <th>2014-03-27</th>\n      <td>1510.903</td>\n      <td>192.194</td>\n      <td>156.117</td>\n    </tr>\n    <tr>\n      <th>2014-03-28</th>\n      <td>1470.810</td>\n      <td>110.056</td>\n      <td>121.595</td>\n    </tr>\n    <tr>\n      <th>2014-03-31</th>\n      <td>1446.114</td>\n      <td>14.138</td>\n      <td>112.798</td>\n    </tr>\n  </tbody>\n</table>\n</div>"
     },
     "execution_count": 81,
     "metadata": {},
     "output_type": "execute_result"
    }
   ]
  },
  {
   "cell_type": "code",
   "metadata": {
    "id": "qRuINSdsgOXO"
   },
   "source": [
    "# Überprüfen mit head und tail:\n",
    "data.loc[\"2014-03\"].head()"
   ],
   "execution_count": 86,
   "outputs": [
    {
     "data": {
      "text/plain": "            Consumption     Wind   Solar\nDate                                    \n2014-03-01     1310.863   42.380  74.222\n2014-03-02     1205.382   79.034  58.509\n2014-03-03     1479.361  174.177  83.837\n2014-03-04     1521.878   19.160  70.862\n2014-03-05     1550.944   18.679  74.279",
      "text/html": "<div>\n<style scoped>\n    .dataframe tbody tr th:only-of-type {\n        vertical-align: middle;\n    }\n\n    .dataframe tbody tr th {\n        vertical-align: top;\n    }\n\n    .dataframe thead th {\n        text-align: right;\n    }\n</style>\n<table border=\"1\" class=\"dataframe\">\n  <thead>\n    <tr style=\"text-align: right;\">\n      <th></th>\n      <th>Consumption</th>\n      <th>Wind</th>\n      <th>Solar</th>\n    </tr>\n    <tr>\n      <th>Date</th>\n      <th></th>\n      <th></th>\n      <th></th>\n    </tr>\n  </thead>\n  <tbody>\n    <tr>\n      <th>2014-03-01</th>\n      <td>1310.863</td>\n      <td>42.380</td>\n      <td>74.222</td>\n    </tr>\n    <tr>\n      <th>2014-03-02</th>\n      <td>1205.382</td>\n      <td>79.034</td>\n      <td>58.509</td>\n    </tr>\n    <tr>\n      <th>2014-03-03</th>\n      <td>1479.361</td>\n      <td>174.177</td>\n      <td>83.837</td>\n    </tr>\n    <tr>\n      <th>2014-03-04</th>\n      <td>1521.878</td>\n      <td>19.160</td>\n      <td>70.862</td>\n    </tr>\n    <tr>\n      <th>2014-03-05</th>\n      <td>1550.944</td>\n      <td>18.679</td>\n      <td>74.279</td>\n    </tr>\n  </tbody>\n</table>\n</div>"
     },
     "execution_count": 86,
     "metadata": {},
     "output_type": "execute_result"
    }
   ]
  },
  {
   "cell_type": "code",
   "execution_count": 87,
   "outputs": [
    {
     "data": {
      "text/plain": "            Consumption     Wind    Solar\nDate                                     \n2014-03-25     1521.834   39.216  107.847\n2014-03-26     1522.582   94.095  131.795\n2014-03-27     1510.903  192.194  156.117\n2014-03-28     1470.810  110.056  121.595\n2014-03-31     1446.114   14.138  112.798",
      "text/html": "<div>\n<style scoped>\n    .dataframe tbody tr th:only-of-type {\n        vertical-align: middle;\n    }\n\n    .dataframe tbody tr th {\n        vertical-align: top;\n    }\n\n    .dataframe thead th {\n        text-align: right;\n    }\n</style>\n<table border=\"1\" class=\"dataframe\">\n  <thead>\n    <tr style=\"text-align: right;\">\n      <th></th>\n      <th>Consumption</th>\n      <th>Wind</th>\n      <th>Solar</th>\n    </tr>\n    <tr>\n      <th>Date</th>\n      <th></th>\n      <th></th>\n      <th></th>\n    </tr>\n  </thead>\n  <tbody>\n    <tr>\n      <th>2014-03-25</th>\n      <td>1521.834</td>\n      <td>39.216</td>\n      <td>107.847</td>\n    </tr>\n    <tr>\n      <th>2014-03-26</th>\n      <td>1522.582</td>\n      <td>94.095</td>\n      <td>131.795</td>\n    </tr>\n    <tr>\n      <th>2014-03-27</th>\n      <td>1510.903</td>\n      <td>192.194</td>\n      <td>156.117</td>\n    </tr>\n    <tr>\n      <th>2014-03-28</th>\n      <td>1470.810</td>\n      <td>110.056</td>\n      <td>121.595</td>\n    </tr>\n    <tr>\n      <th>2014-03-31</th>\n      <td>1446.114</td>\n      <td>14.138</td>\n      <td>112.798</td>\n    </tr>\n  </tbody>\n</table>\n</div>"
     },
     "execution_count": 87,
     "metadata": {},
     "output_type": "execute_result"
    }
   ],
   "source": [
    "data.loc[\"2014-03\"].tail()"
   ],
   "metadata": {
    "collapsed": false
   }
  },
  {
   "cell_type": "code",
   "metadata": {
    "id": "Bod5ZP0JgOXP"
   },
   "source": [
    "# alle Daten von März 2014 bis Februar 2015:\n",
    "data.loc[\"2014-03\":\"2015-02\"]"
   ],
   "execution_count": 82,
   "outputs": [
    {
     "data": {
      "text/plain": "            Consumption     Wind    Solar\nDate                                     \n2014-03-01     1310.863   42.380   74.222\n2014-03-02     1205.382   79.034   58.509\n2014-03-03     1479.361  174.177   83.837\n2014-03-04     1521.878   19.160   70.862\n2014-03-05     1550.944   18.679   74.279\n...                 ...      ...      ...\n2015-02-24     1604.991  317.556   50.806\n2015-02-25     1585.249  107.047   72.248\n2015-02-26     1579.350  177.505  106.263\n2015-02-27     1569.187  136.122   65.845\n2015-02-28     1340.489  207.350   82.594\n\n[362 rows x 3 columns]",
      "text/html": "<div>\n<style scoped>\n    .dataframe tbody tr th:only-of-type {\n        vertical-align: middle;\n    }\n\n    .dataframe tbody tr th {\n        vertical-align: top;\n    }\n\n    .dataframe thead th {\n        text-align: right;\n    }\n</style>\n<table border=\"1\" class=\"dataframe\">\n  <thead>\n    <tr style=\"text-align: right;\">\n      <th></th>\n      <th>Consumption</th>\n      <th>Wind</th>\n      <th>Solar</th>\n    </tr>\n    <tr>\n      <th>Date</th>\n      <th></th>\n      <th></th>\n      <th></th>\n    </tr>\n  </thead>\n  <tbody>\n    <tr>\n      <th>2014-03-01</th>\n      <td>1310.863</td>\n      <td>42.380</td>\n      <td>74.222</td>\n    </tr>\n    <tr>\n      <th>2014-03-02</th>\n      <td>1205.382</td>\n      <td>79.034</td>\n      <td>58.509</td>\n    </tr>\n    <tr>\n      <th>2014-03-03</th>\n      <td>1479.361</td>\n      <td>174.177</td>\n      <td>83.837</td>\n    </tr>\n    <tr>\n      <th>2014-03-04</th>\n      <td>1521.878</td>\n      <td>19.160</td>\n      <td>70.862</td>\n    </tr>\n    <tr>\n      <th>2014-03-05</th>\n      <td>1550.944</td>\n      <td>18.679</td>\n      <td>74.279</td>\n    </tr>\n    <tr>\n      <th>...</th>\n      <td>...</td>\n      <td>...</td>\n      <td>...</td>\n    </tr>\n    <tr>\n      <th>2015-02-24</th>\n      <td>1604.991</td>\n      <td>317.556</td>\n      <td>50.806</td>\n    </tr>\n    <tr>\n      <th>2015-02-25</th>\n      <td>1585.249</td>\n      <td>107.047</td>\n      <td>72.248</td>\n    </tr>\n    <tr>\n      <th>2015-02-26</th>\n      <td>1579.350</td>\n      <td>177.505</td>\n      <td>106.263</td>\n    </tr>\n    <tr>\n      <th>2015-02-27</th>\n      <td>1569.187</td>\n      <td>136.122</td>\n      <td>65.845</td>\n    </tr>\n    <tr>\n      <th>2015-02-28</th>\n      <td>1340.489</td>\n      <td>207.350</td>\n      <td>82.594</td>\n    </tr>\n  </tbody>\n</table>\n<p>362 rows × 3 columns</p>\n</div>"
     },
     "execution_count": 82,
     "metadata": {},
     "output_type": "execute_result"
    }
   ]
  },
  {
   "cell_type": "code",
   "metadata": {
    "id": "1_11aohMgOXP"
   },
   "source": [
    "# Überprüfen mit head und tail:\n",
    "data.loc[\"2014-03\":\"2015-02\"].head()"
   ],
   "execution_count": 88,
   "outputs": [
    {
     "data": {
      "text/plain": "            Consumption     Wind   Solar\nDate                                    \n2014-03-01     1310.863   42.380  74.222\n2014-03-02     1205.382   79.034  58.509\n2014-03-03     1479.361  174.177  83.837\n2014-03-04     1521.878   19.160  70.862\n2014-03-05     1550.944   18.679  74.279",
      "text/html": "<div>\n<style scoped>\n    .dataframe tbody tr th:only-of-type {\n        vertical-align: middle;\n    }\n\n    .dataframe tbody tr th {\n        vertical-align: top;\n    }\n\n    .dataframe thead th {\n        text-align: right;\n    }\n</style>\n<table border=\"1\" class=\"dataframe\">\n  <thead>\n    <tr style=\"text-align: right;\">\n      <th></th>\n      <th>Consumption</th>\n      <th>Wind</th>\n      <th>Solar</th>\n    </tr>\n    <tr>\n      <th>Date</th>\n      <th></th>\n      <th></th>\n      <th></th>\n    </tr>\n  </thead>\n  <tbody>\n    <tr>\n      <th>2014-03-01</th>\n      <td>1310.863</td>\n      <td>42.380</td>\n      <td>74.222</td>\n    </tr>\n    <tr>\n      <th>2014-03-02</th>\n      <td>1205.382</td>\n      <td>79.034</td>\n      <td>58.509</td>\n    </tr>\n    <tr>\n      <th>2014-03-03</th>\n      <td>1479.361</td>\n      <td>174.177</td>\n      <td>83.837</td>\n    </tr>\n    <tr>\n      <th>2014-03-04</th>\n      <td>1521.878</td>\n      <td>19.160</td>\n      <td>70.862</td>\n    </tr>\n    <tr>\n      <th>2014-03-05</th>\n      <td>1550.944</td>\n      <td>18.679</td>\n      <td>74.279</td>\n    </tr>\n  </tbody>\n</table>\n</div>"
     },
     "execution_count": 88,
     "metadata": {},
     "output_type": "execute_result"
    }
   ]
  },
  {
   "cell_type": "code",
   "execution_count": 89,
   "outputs": [
    {
     "data": {
      "text/plain": "            Consumption     Wind    Solar\nDate                                     \n2015-02-24     1604.991  317.556   50.806\n2015-02-25     1585.249  107.047   72.248\n2015-02-26     1579.350  177.505  106.263\n2015-02-27     1569.187  136.122   65.845\n2015-02-28     1340.489  207.350   82.594",
      "text/html": "<div>\n<style scoped>\n    .dataframe tbody tr th:only-of-type {\n        vertical-align: middle;\n    }\n\n    .dataframe tbody tr th {\n        vertical-align: top;\n    }\n\n    .dataframe thead th {\n        text-align: right;\n    }\n</style>\n<table border=\"1\" class=\"dataframe\">\n  <thead>\n    <tr style=\"text-align: right;\">\n      <th></th>\n      <th>Consumption</th>\n      <th>Wind</th>\n      <th>Solar</th>\n    </tr>\n    <tr>\n      <th>Date</th>\n      <th></th>\n      <th></th>\n      <th></th>\n    </tr>\n  </thead>\n  <tbody>\n    <tr>\n      <th>2015-02-24</th>\n      <td>1604.991</td>\n      <td>317.556</td>\n      <td>50.806</td>\n    </tr>\n    <tr>\n      <th>2015-02-25</th>\n      <td>1585.249</td>\n      <td>107.047</td>\n      <td>72.248</td>\n    </tr>\n    <tr>\n      <th>2015-02-26</th>\n      <td>1579.350</td>\n      <td>177.505</td>\n      <td>106.263</td>\n    </tr>\n    <tr>\n      <th>2015-02-27</th>\n      <td>1569.187</td>\n      <td>136.122</td>\n      <td>65.845</td>\n    </tr>\n    <tr>\n      <th>2015-02-28</th>\n      <td>1340.489</td>\n      <td>207.350</td>\n      <td>82.594</td>\n    </tr>\n  </tbody>\n</table>\n</div>"
     },
     "execution_count": 89,
     "metadata": {},
     "output_type": "execute_result"
    }
   ],
   "source": [
    "data.loc[\"2014-03\":\"2015-02\"].tail()"
   ],
   "metadata": {
    "collapsed": false
   }
  },
  {
   "cell_type": "markdown",
   "metadata": {
    "id": "MsBg98vigOXQ"
   },
   "source": [
    "## Mit Zeitstempel und Spaltenname indexieren"
   ]
  },
  {
   "cell_type": "code",
   "metadata": {
    "id": "ca8vLIdvgOXQ"
   },
   "source": [
    "# Der Energieverbrauch (Consumption) in den Jahren 2014 bis 2015:\n",
    "data[\"Consumption\"].loc[\"2014\":\"2015\"]"
   ],
   "execution_count": 90,
   "outputs": [
    {
     "data": {
      "text/plain": "Date\n2014-01-01    1080.080\n2014-01-02    1343.101\n2014-01-03    1379.776\n2014-01-04    1271.029\n2014-01-05    1182.416\n                ...   \n2015-12-27    1068.214\n2015-12-28    1219.075\n2015-12-29    1233.660\n2015-12-30    1238.863\n2015-12-31    1158.103\nName: Consumption, Length: 727, dtype: float64"
     },
     "execution_count": 90,
     "metadata": {},
     "output_type": "execute_result"
    }
   ]
  },
  {
   "cell_type": "code",
   "metadata": {
    "id": "0cRJVn0UgOXQ"
   },
   "source": [
    "# Spalten \"Solar\" und \"Wind\" am 01.12.2013:\n",
    "data[[\"Solar\", \"Wind\"]].loc[\"2013-01-12\"]"
   ],
   "execution_count": 93,
   "outputs": [
    {
     "data": {
      "text/plain": "Solar    20.777\nWind     33.461\nName: 2013-01-12 00:00:00, dtype: float64"
     },
     "execution_count": 93,
     "metadata": {},
     "output_type": "execute_result"
    }
   ]
  },
  {
   "cell_type": "code",
   "execution_count": null,
   "outputs": [],
   "source": [],
   "metadata": {
    "collapsed": false
   }
  }
 ]
}
